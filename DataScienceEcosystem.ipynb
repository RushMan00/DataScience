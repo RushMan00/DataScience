{
 "cells": [
  {
   "cell_type": "markdown",
   "id": "7edeef73-68fd-4565-a96b-38141cd8b696",
   "metadata": {},
   "source": [
    "# Data Science Tools and Ecosystem"
   ]
  },
  {
   "cell_type": "markdown",
   "id": "283d65d4-2737-4421-8959-f0415d523a50",
   "metadata": {},
   "source": [
    "## In this notebook, Data Science Tools and Ecosystem are summarized."
   ]
  },
  {
   "cell_type": "markdown",
   "id": "e529e957-6f87-4141-ab2b-ce72131e1192",
   "metadata": {},
   "source": [
    "Some of the popular languages that Data Scientists use are:\n",
    "1. Python\n",
    "2. SQL\n",
    "3. R\n"
   ]
  },
  {
   "cell_type": "markdown",
   "id": "24dc072c-7b4f-4e84-8a8d-d931a1322db2",
   "metadata": {},
   "source": [
    "Some of the commonly used libraries used by Data Scientists include:\n",
    "1. Pandas\n",
    "2. NumPy\n",
    "3. Matplo"
   ]
  },
  {
   "cell_type": "markdown",
   "id": "11a10c6a-1e65-463a-84c7-366de3ad33b9",
   "metadata": {},
   "source": [
    "| Data Science Tools |\n",
    "| ------------------ |\n",
    "| Jupyter Notebook |\n",
    "| RStudio |\n",
    "| GitHub |\n",
    "\n"
   ]
  },
  {
   "cell_type": "markdown",
   "id": "ca0faea7-e3f9-4cf4-8a96-339646c72378",
   "metadata": {},
   "source": [
    "### Below are a few examples of evaluating arithmetic expressions in Python.\n"
   ]
  },
  {
   "cell_type": "code",
   "execution_count": 5,
   "id": "724a4a4b-b73a-4973-bb8b-c8681e502cb5",
   "metadata": {},
   "outputs": [
    {
     "name": "stdout",
     "output_type": "stream",
     "text": [
      "17\n"
     ]
    }
   ],
   "source": [
    "# This a simple arithmetic expression to mutiply then add integers\n",
    "print((3*4)+5)"
   ]
  },
  {
   "cell_type": "code",
   "execution_count": 6,
   "id": "be28cd61-1b9a-4dee-bf9a-32328bd318e2",
   "metadata": {},
   "outputs": [
    {
     "name": "stdout",
     "output_type": "stream",
     "text": [
      "3.3333333333333335\n"
     ]
    }
   ],
   "source": [
    "# This will convert 200 minutes to hours by diving by 60\n",
    "print(200/60)"
   ]
  },
  {
   "cell_type": "markdown",
   "id": "aac534b0-20d7-4ebd-995e-682b252bb7bc",
   "metadata": {},
   "source": [
    "**Objectives:**\n",
    "- Categories of Data Science Tools\n",
    "- Model Development\n",
    "- Introduction to SQL\n",
    "- Libraries for Data Science\n",
    "- Additional Sources of Datasets\n",
    "- \n",
    "\n"
   ]
  },
  {
   "cell_type": "markdown",
   "id": "c9ad5712-be6c-427b-9597-73c4f164b0f3",
   "metadata": {},
   "source": [
    "## Author \n",
    "Tony\n"
   ]
  },
  {
   "cell_type": "code",
   "execution_count": null,
   "id": "84dae3a6-f157-47eb-aff1-b881f02a8dd7",
   "metadata": {},
   "outputs": [],
   "source": []
  }
 ],
 "metadata": {
  "kernelspec": {
   "display_name": "Python 3 (ipykernel)",
   "language": "python",
   "name": "python3"
  },
  "language_info": {
   "codemirror_mode": {
    "name": "ipython",
    "version": 3
   },
   "file_extension": ".py",
   "mimetype": "text/x-python",
   "name": "python",
   "nbconvert_exporter": "python",
   "pygments_lexer": "ipython3",
   "version": "3.11.9"
  }
 },
 "nbformat": 4,
 "nbformat_minor": 5
}
